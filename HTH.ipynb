{
 "cells": [
  {
   "cell_type": "code",
   "execution_count": 10,
   "metadata": {},
   "outputs": [],
   "source": [
    "import os, sys\n",
    "import numpy as np\n",
    "import json\n",
    "import re\n",
    "from itertools import combinations\n",
    "import matplotlib.pyplot as plt\n",
    "from matplotlib.colors import to_rgb\n",
    "import matplotlib.gridspec as gridspec\n",
    "\n",
    "import pandas as pd\n",
    "from Bio import Phylo\n",
    "from tqdm import tqdm\n",
    "from sklearn.metrics.pairwise import cosine_similarity\n",
    "import umap\n",
    "import seaborn as sns\n",
    "from copy import deepcopy\n",
    "\n",
    "from Bio import SeqIO\n",
    "from Bio import Entrez\n",
    "from Bio.Seq import Seq\n",
    "from Bio.SeqRecord import SeqRecord\n",
    "from Bio import motifs \n",
    "\n",
    "plt.rcParams['svg.fonttype'] = 'none'\n",
    "plt.rcParams['font.size'] = 6\n"
   ]
  },
  {
   "cell_type": "code",
   "execution_count": 11,
   "metadata": {},
   "outputs": [],
   "source": [
    "\n",
    "def xstreme_command_line(promoter_file, bkg_file=None, palindrome_file=None, minw=5, maxw=30, align='center'):\n",
    "    '''\n",
    "    Call xstreme using command line. See xstreme help for parameter information\n",
    "    '''\n",
    "    call = ''\n",
    "    if type(palindrome_file) != type(None) and type(bkg_file) != type(None):\n",
    "        call = 'xstreme --minw ' + str(minw) + ' --maxw ' + str(maxw) + ' --meme-mod anr --align ' + align + ' --p ' + promoter_file + ' --n ' + bkg_file + ' --m ' + palindrome_file + ' --verbosity 0'\n",
    "    if type(palindrome_file) == type(None) and type(bkg_file) != type(None):\n",
    "        call = 'xstreme --minw ' + str(minw) + ' --maxw ' + str(maxw) + ' --meme-mod anr --align ' + align + ' --p ' + promoter_file + ' --n ' + bkg_file + ' --verbosity 0'\n",
    "    if type(palindrome_file) == type(None) and type(bkg_file) == type(None):\n",
    "        call = 'xstreme --minw ' + str(minw) + ' --maxw ' + str(maxw) + ' --meme-mod anr --align ' + align + ' --p ' + promoter_file + ' --verbosity 0'\n",
    "    if len(call) == 0:\n",
    "        raise KeyError(f'Xstreme command line not initialized properly:\\nPromoter File {promoter_file}\\nBackground File {bkg_file}\\nPalindrome File {palindrome_file}')\n",
    "    os.system(call)\n",
    "    return\n",
    "\n",
    "nts = ['A', 'C', 'G', 'T']\n",
    "\n",
    "def get_best_repeat(motif, minw=5, min_gap=2, allow_direct_repeat=False):\n",
    "    '''\n",
    "    Takes bio.motif and returns position (start, end), distance of best inverted repeat\n",
    "    '''\n",
    "    ## make matrix from pwm\n",
    "    try:\n",
    "        alphabet = motif.pwm.keys()\n",
    "    except:\n",
    "        return None, np.inf\n",
    "    matrix = []\n",
    "    for key in alphabet: \n",
    "        matrix.append(motif.pwm[key])\n",
    "\n",
    "    matrix = np.array(matrix)\n",
    "\n",
    "    ## Make reverse complement indices\n",
    "    com_dict = {'A': 'T',\n",
    "                'T': 'A',\n",
    "                'G': 'C',\n",
    "                'C': 'G',\n",
    "                'N': 'N'}\n",
    "\n",
    "    alphabet_dict = {}\n",
    "    for ai, a in enumerate(list(alphabet)):\n",
    "        alphabet_dict[a] = ai\n",
    "\n",
    "    alphabet_index = []\n",
    "    com_index = []\n",
    "    for ai, a in enumerate(list(alphabet)):\n",
    "        alphabet_index.append(alphabet_dict[a])\n",
    "        com_index.append(alphabet_dict[com_dict[a]])\n",
    "\n",
    "    ## Find best inverted motif\n",
    "    min_distance = np.inf\n",
    "    best_pos = None\n",
    "    for i in range(0, matrix.shape[1]-2*minw):\n",
    "        for j in range(i + 2*minw, matrix.shape[1]):\n",
    "            submatrix = matrix[:, i:j]\n",
    "            half_len = submatrix.shape[1] // 2\n",
    "            for gap_size in [min_gap, half_len-minw]:\n",
    "                motif_len = half_len-gap_size\n",
    "                half_sub_f = submatrix[:, :motif_len]\n",
    "                half_sub_r_ir = submatrix[com_index, -motif_len:][:, ::-1]\n",
    "                half_sub_r_dr = submatrix[:, -motif_len:]\n",
    "                ir_distance = np.linalg.norm(half_sub_f - half_sub_r_ir)\n",
    "                dr_distance = np.linalg.norm(half_sub_f - half_sub_r_dr)\n",
    "                if not allow_direct_repeat: dr_distance = np.inf\n",
    "                if (ir_distance < min_distance) or (dr_distance < min_distance):\n",
    "                    best_pos = (i, j)\n",
    "                    min_distance = min(ir_distance, dr_distance)\n",
    "\n",
    "    return best_pos, min_distance\n",
    "\n",
    "def calculate_repeat(all_motifs):\n",
    "    '''\n",
    "    Uses get_best_repeat to calculate repeat characteristics for all motifs in a list of motifs\n",
    "    '''\n",
    "    best_motif = None\n",
    "    best_distance = np.inf\n",
    "    best_pos = None\n",
    "    for motif in all_motifs:\n",
    "        _best_pos, min_distance = get_best_repeat(motif)\n",
    "        if min_distance < best_distance:\n",
    "            best_motif = motif\n",
    "            best_distance = min_distance\n",
    "            best_pos = _best_pos\n",
    "    return best_motif, best_distance, best_pos\n",
    "\n",
    "def convert_pssm_to_str(matrix):\n",
    "    motif_seq = ''\n",
    "    for ni in range(matrix.shape[1]):\n",
    "        if matrix[:, ni].sum() == 0:\n",
    "            nt = 'N'\n",
    "        else: \n",
    "            nt = ['A', 'C', 'G', 'T'][matrix[:, ni].argmax()]\n",
    "        motif_seq += nt\n",
    "    return motif_seq\n",
    "\n",
    "\n"
   ]
  },
  {
   "cell_type": "code",
   "execution_count": 12,
   "metadata": {},
   "outputs": [],
   "source": [
    "import numpy as np\n",
    "def process_pssm_fromstr(pssm):\n",
    "    matrix = np.ones(shape=(4, 30), dtype=float)\n",
    "    matrix[:] = np.nan\n",
    "    r_count = 0\n",
    "    c_count = 0\n",
    "    float_str = ''\n",
    "    for ci, char in enumerate(pssm):\n",
    "        if char == '\\n':\n",
    "            continue\n",
    "        if char not in ['[', ']', ' ']:\n",
    "            float_str += char\n",
    "        else:\n",
    "            if len(float_str) > 0:\n",
    "                matrix[r_count, c_count] = float(float_str)\n",
    "                c_count += 1\n",
    "                float_str = ''\n",
    "            if char == ']':\n",
    "                r_count += 1\n",
    "                c_count = 0\n",
    "    return matrix\n",
    "\n",
    "def process_pssm_fromstr(pssm):\n",
    "    matrix = np.ones(shape=(4, 30), dtype=float)\n",
    "    r_count = 0\n",
    "    c_count = 0\n",
    "    float_str = ''\n",
    "    for ci, char in enumerate(pssm):\n",
    "        if char == '\\n':\n",
    "            continue\n",
    "        if char not in ['[', ']', ' ']:\n",
    "            float_str += char\n",
    "        else:\n",
    "            if len(float_str) > 0:\n",
    "                matrix[r_count, c_count] = float(float_str)\n",
    "                c_count += 1\n",
    "                float_str = ''\n",
    "            if char == ']':\n",
    "                r_count += 1\n",
    "                c_count = 0\n",
    "    return matrix\n",
    "\n",
    "def pssm_similarity(pssm1: np.ndarray, pssm2: np.ndarray) -> float:\n",
    "    \"\"\"\n",
    "    Compare two DNA PSSMs and return their similarity score.\n",
    "    Similarity is calculated as the average cosine similarity of each column vector.\n",
    "\n",
    "    Args:\n",
    "        pssm1 (np.ndarray): First PSSM (4 x N).\n",
    "        pssm2 (np.ndarray): Second PSSM (4 x N).\n",
    "\n",
    "    Returns:\n",
    "        float: Similarity score between 0 and 1.\n",
    "    \"\"\"\n",
    "    # Ensure the matrices have the same shape\n",
    "    assert pssm1.shape == pssm2.shape, \"PSSMs must have the same shape\"\n",
    "\n",
    "    # Adjust for N base\n",
    "    pssm1 = np.vstack([pssm1, (pssm1.sum(axis=0).max() - pssm1.sum(axis=0)).reshape(1, -1)])\n",
    "    pssm2 = np.vstack([pssm2, (pssm2.sum(axis=0).max() - pssm2.sum(axis=0)).reshape(1, -1)])\n",
    "\n",
    "    # Normalize columns\n",
    "    norm1 = np.linalg.norm(pssm1, axis=0, keepdims=True)\n",
    "    norm2 = np.linalg.norm(pssm2, axis=0, keepdims=True)\n",
    "    norm1[norm1 == 0] = 1\n",
    "    norm2[norm2 == 0] = 1\n",
    "\n",
    "    # Compute cosine similarity column-wise\n",
    "    similarities = np.sum(pssm1 * pssm2, axis=0) / (norm1 * norm2)\n",
    "\n",
    "    # Return the average similarity\n",
    "    return np.mean(similarities)\n",
    "\n",
    "def process_distmat(distmat_path, label_by = 'id'):\n",
    "    with open(distmat_path, 'r') as infile:\n",
    "        dist = infile.read().splitlines()\n",
    "        \n",
    "    ids = []\n",
    "    matrix = []\n",
    "    for row in dist[1:]:\n",
    "        row_clean = ' '.join(row.split())\n",
    "        id = row_clean.split(' ')[0]\n",
    "        vals = np.array([float(i) for i in row_clean.split(' ')[1:]])\n",
    "        ids.append(id)\n",
    "        matrix.append(vals)\n",
    "\n",
    "    matrix = np.array(matrix)\n",
    "    if label_by == 'species':\n",
    "        labels = [' '.join(i.split('_')[1:]) for i in ids]\n",
    "    elif label_by == 'genus':\n",
    "        labels = [i.split('_')[1] for i in ids]\n",
    "    elif label_by == 'id':\n",
    "        labels = ids\n",
    "    else:\n",
    "        labels = list(range(len(ids)))\n",
    "    names = [i.split('_')[0] for i in ids]\n",
    "    \n",
    "    return matrix, labels, names\n",
    "\n",
    "def reorder_distance_matrix(dist_matrix, labels, reference_labels):\n",
    "    \"\"\"\n",
    "    Reorder a distance matrix so that its labels match the order of reference_labels.\n",
    "    \n",
    "    Parameters:\n",
    "        dist_matrix (np.ndarray): The distance matrix to reorder (N x N).\n",
    "        labels (list of str): The labels corresponding to rows/columns of dist_matrix.\n",
    "        reference_labels (list of str): The desired label order.\n",
    "        \n",
    "    Returns:\n",
    "        np.ndarray: The reordered distance matrix.\n",
    "    \"\"\"\n",
    "    # Create a mapping from label to index\n",
    "    label_to_index = {label: idx for idx, label in enumerate(labels)}\n",
    "    \n",
    "    # Get the indices in the order of reference_labels\n",
    "    indices = [label_to_index[label] for label in reference_labels]\n",
    "    \n",
    "    # Reorder both rows and columns\n",
    "    reordered_matrix = dist_matrix[np.ix_(indices, indices)]\n",
    "    return reordered_matrix\n",
    "\n",
    "def cmyk_to_rgb(c, m, y, k):\n",
    "    \"\"\"Convert a single CMYK color to RGB (0-1 range).\"\"\"\n",
    "    r = 1 - min(1, c + k)\n",
    "    g = 1 - min(1, m + k)\n",
    "    b = 1 - min(1, y + k)\n",
    "    return (r, g, b)\n",
    "\n",
    "\n",
    "nts = ['A', 'C', 'G', 'T']\n"
   ]
  },
  {
   "cell_type": "code",
   "execution_count": 13,
   "metadata": {},
   "outputs": [],
   "source": [
    "import re\n",
    "from Bio import motifs\n",
    "from Bio.Seq import Seq\n",
    "\n",
    "def parse_glam2_output(text):\n",
    "    ## Process text\n",
    "    lines = text.strip().split(\"\\n\")\n",
    "    alignment = []\n",
    "    \n",
    "    ## Get first matrix\n",
    "    start_found = False\n",
    "    for line in lines:\n",
    "        if line.__contains__('Score') and start_found: break\n",
    "        if line.__contains__('Score') and not start_found: start_found = True\n",
    "        match = re.match(r'\\d+\\s+\\d+\\s+([acgtACGT\\.]+)\\s+\\d+\\s+[+-]\\s+[\\d\\.]+', line)\n",
    "        if match and start_found:\n",
    "            alignment.append(match.group(1))\n",
    "    \n",
    "    return alignment\n",
    "\n",
    "def process_alignment(alignment, trim_gaps = True, gap_threshold = 0.5, return_fmt = 'motif'):\n",
    "    '''\n",
    "    Function to process glam2 output alignment into counts matrix with gap filtering\n",
    "    '''\n",
    "    ## Make mappable\n",
    "    nts = ['A', 'C', 'G', 'T']\n",
    "    seq_map_dict = {}\n",
    "    for ni, nt in enumerate(nts): \n",
    "        seq_map_dict[nt] = ni\n",
    "\n",
    "    ## Process to matrix\n",
    "    matrix = np.zeros(shape=(4, len(alignment[0])))\n",
    "    for seq in alignment: \n",
    "        for ni, nt in enumerate(seq):\n",
    "            if nt == '.':\n",
    "                continue\n",
    "            matrix[seq_map_dict[nt.upper()], ni] += 1\n",
    "\n",
    "    ## Trim gaps\n",
    "    if trim_gaps:\n",
    "        remove_idx = np.argwhere(matrix.sum(axis=0) < len(alignment) * gap_threshold)\n",
    "        keep_idx = [i for i in list(range(len(alignment[0])))]\n",
    "        if len(remove_idx) != 0: \n",
    "            keep_idx = [i for i in keep_idx if i not in remove_idx]\n",
    "            matrix = matrix[:, keep_idx]\n",
    "\n",
    "    if return_fmt == 'matrix':\n",
    "        return matrix\n",
    "    \n",
    "    if return_fmt == 'motif' and not trim_gaps:\n",
    "        sequences = [Seq(seq.replace('.', '-')) for seq in alignment]\n",
    "        motif = motifs.create(sequences)\n",
    "        return motif\n",
    "    \n",
    "    if return_fmt == 'motif' and trim_gaps:\n",
    "        trimmed_alignment = []\n",
    "        for seq in alignment:\n",
    "            trimmed_alignment.append(''.join([i for ii, i in enumerate(seq) if ii in keep_idx]))\n",
    "        sequences = [Seq(seq.replace('.', '-').upper()) for seq in trimmed_alignment]\n",
    "        motif = motifs.create(sequences)\n",
    "        return motif\n"
   ]
  },
  {
   "cell_type": "code",
   "execution_count": 14,
   "metadata": {},
   "outputs": [],
   "source": [
    "## Load data\n",
    "df = pd.read_csv('../HTH_Uniref_data_20250317.tsv', sep='\\t')\n",
    "clean_df = df[~df['Cluster_pssm'].isin(['Top rank non-palindromic', 'No motifs']) & (df['id'] == df['Cluster_id'] )]\n",
    "df = df[df['id'] == df['Cluster_id']]\n",
    "\n",
    "## Load data\n",
    "total_df_1 = pd.read_csv('../HTH_Uniref90_protdata.tsv', sep='\\t')\n",
    "total_df_2 = pd.read_csv('../HTH_Uniref70_data_20250317.tsv', sep='\\t')\n",
    "total_df_2['pfam_domain_names'] = total_df_2.id.map(total_df_1.set_index('id')['pfam_domain_names'].to_dict())\n",
    "total_df_2 = total_df_2[~total_df_2['pfam_domain_names'].isna()]\n",
    "\n",
    "## Add cluster counts\n",
    "cluster_count_dict = total_df_2[['Cluster_id', 'id']].groupby('Cluster_id')['id'].agg('count').to_dict()"
   ]
  },
  {
   "cell_type": "code",
   "execution_count": 15,
   "metadata": {},
   "outputs": [],
   "source": [
    "## Process hmmer output\n",
    "hmmer_outpath = '/scratch/mgh6/HTH/tmp/TetR_hmm.txt'\n",
    "hmmerdat = pd.read_csv(hmmer_outpath, sep='\\t')\n",
    "hmmerdat.columns = ['Target', 'HmmName','E-value','BitScore','HMM_Start','HMM_End','TargetStart','TargetEnd','HMM_Seq','Ali_Seq','Description']\n",
    "aln_seqs = {}\n",
    "alns = []\n",
    "fasta_str = ''\n",
    "for row in hmmerdat.iterrows():\n",
    "    id = row[1].Target\n",
    "    aln_seq = row[1].Ali_Seq[30-row[1].HMM_Start : 36-row[1].HMM_Start]\n",
    "    aln_seqs[id] = aln_seq\n",
    "\n",
    "## Map\n",
    "clean_df['Helix'] = clean_df.id.map(aln_seqs)\n",
    "total_df_2['Helix'] = total_df_2.id.map(aln_seqs)"
   ]
  },
  {
   "cell_type": "code",
   "execution_count": 16,
   "metadata": {},
   "outputs": [],
   "source": [
    "helix_count_df = total_df_2[['id', 'Helix']].groupby('Helix').agg('count').reset_index()\n",
    "helix_count_df = helix_count_df[(helix_count_df['Helix'].str.len() == 6) & (helix_count_df['Helix'] != '      ')]\n",
    "helix_count_df = helix_count_df[helix_count_df['Helix'].str.upper() == helix_count_df['Helix']]\n",
    "helix_count_df.columns = ['Helix', 'Count']\n",
    "helix_count_dict = helix_count_df.set_index('Helix')['Count'].to_dict()"
   ]
  },
  {
   "cell_type": "code",
   "execution_count": 17,
   "metadata": {},
   "outputs": [
    {
     "name": "stderr",
     "output_type": "stream",
     "text": [
      "  0%|          | 0/1232 [00:00<?, ?it/s]"
     ]
    },
    {
     "name": "stderr",
     "output_type": "stream",
     "text": [
      "100%|██████████| 1232/1232 [00:17<00:00, 71.16it/s]\n"
     ]
    }
   ],
   "source": [
    "## Set inputs\n",
    "min_num_seqs = 10\n",
    "min_glam_score = 0\n",
    "pal_distance = 100\n",
    "helix_list = helix_count_df[helix_count_df['Count'] >= min_num_seqs]['Helix'].unique()\n",
    "\n",
    "## Set outputs\n",
    "cluster_count_dict = {}\n",
    "cluster_prob_dict = {}\n",
    "cluster_pssm_dict = {}\n",
    "cluster_glam_score = {}\n",
    "cluster_distance = {}\n",
    "glam_scores = []\n",
    "pal_distances = []\n",
    "counts= []\n",
    "\n",
    "for cluster in tqdm(helix_list):\n",
    "    cluster_path = f'glam2_{cluster}'\n",
    "    ## Get path\n",
    "    full_cluster_path = os.path.join('../glam2_outputs_helix', cluster_path)\n",
    "    ## Get glam scores\n",
    "    glam_file = os.path.join(full_cluster_path, 'glam2.txt')\n",
    "    if not os.path.exists(glam_file): continue\n",
    "    dat = open(glam_file, 'r').read()\n",
    "    glam_score = float([i for i in dat.split('\\n') if i.__contains__('Score:')][0].split(' ')[1])\n",
    "    if glam_score < min_glam_score: continue\n",
    "\n",
    "    ## Scrape top motif\n",
    "    top_motif = process_alignment(parse_glam2_output(open(glam_file, 'r').read()))\n",
    "\n",
    "    ## Get loc of best clean motif\n",
    "    best_motif, best_distance, best_pos = calculate_repeat([top_motif])\n",
    "    cluster_name = cluster_path.split('_')[-1]\n",
    "    if not best_motif: \n",
    "        best_motif = top_motif\n",
    "        best_distance = 100\n",
    "        best_pos = (0, len(top_motif.pssm['A']))\n",
    "        continue\n",
    "    if best_distance > pal_distance: \n",
    "        continue\n",
    "\n",
    "    ## Adjust best positions by -2 and +2\n",
    "    additional_bases = 4\n",
    "    center = int((best_pos[1] - best_pos[0]) / 2) + best_pos[0]\n",
    "    lower_lim = max(best_pos[0]-additional_bases, 0)\n",
    "    upper_lim = center\n",
    "    # upper_lim = min(best_pos[1]+additional_bases, len(best_motif.pssm['A']))\n",
    "    best_pos = (lower_lim, upper_lim)\n",
    "\n",
    "    ## Clean pssm\n",
    "    clean_pssm = []\n",
    "    for key in nts:\n",
    "        clean_pssm.append(best_motif.pssm[key][best_pos[0]:best_pos[1]])\n",
    "\n",
    "    clean_pssm = np.array(clean_pssm)\n",
    "    clean_pssm[np.isneginf(clean_pssm)] = -100\n",
    "\n",
    "    ## Clean counts\n",
    "    clean_counts = []\n",
    "    for key in nts:\n",
    "        clean_counts.append(best_motif.counts[key][best_pos[0]:best_pos[1]])\n",
    "\n",
    "    clean_counts = np.array(clean_counts)\n",
    "    clean_probs = clean_counts / clean_counts.sum(axis=0)\n",
    "\n",
    "    ## Add to list\n",
    "    cluster_count_dict[cluster_name] = clean_counts\n",
    "    cluster_prob_dict[cluster_name] = clean_probs\n",
    "    cluster_pssm_dict[cluster_name] = clean_pssm\n",
    "    cluster_glam_score[cluster_name] = glam_score\n",
    "    cluster_distance[cluster_name] = best_distance\n",
    "\n",
    "    glam_scores.append(glam_score)\n",
    "    pal_distances.append(best_distance)\n",
    "    counts.append(helix_count_dict[cluster])\n",
    "\n",
    "## Convert to arrays\n",
    "glam_scores = np.array(glam_scores)\n",
    "pal_distances = np.array(pal_distances)\n",
    "counts = np.array(counts)\n"
   ]
  },
  {
   "cell_type": "code",
   "execution_count": 18,
   "metadata": {},
   "outputs": [],
   "source": [
    "## Add manual sets for seeding\n",
    "helix_nt_dict = {\n",
    "    # ## structural\n",
    "    # 'KGSFYH': 'TAGACC'\n",
    "    ##pos 1\n",
    "    'AGTLYR': 'CGGAGA',\n",
    "    'PGTLYR': 'CGGAGA',\n",
    "    'IGTLYR': 'CGGAGG',\n",
    "    'MGTLYR': 'CGGAGC',\n",
    "    'SGTLYR': 'TGGAGA',\n",
    "    'TGTLYR': 'TGGAGA',\n",
    "    'RGTLYR': 'TGGACA',\n",
    "    'QGTLYR': 'CGGACA',\n",
    "    'KGTLYR': 'CGGACT',\n",
    "    ## pos2\n",
    "    'KSTLYR': 'GATACG',\n",
    "    'KTTLYR': 'GCTACG',\n",
    "    'KRTLYR': 'TAGACT',\n",
    "    'KATLYR': 'ACGAAA',\n",
    "    'KGTLYR': 'CGGACT',\n",
    "    ## Pos3\n",
    "    'KGSFYH': 'TAGACC',\n",
    "    'KGTFYH': 'TAGACC',\n",
    "    'KGAFYH': 'CCGACC',\n",
    "    'KGGFYH': 'CCGACC',\n",
    "    ## Pos5\n",
    "    'KGAFFH': 'CCGACC',\n",
    "    'KGAFYH': 'CCGACC',\n",
    "    # ## Pos6\n",
    "    # 'KGSFYY': 'TAGACC',\n",
    "    # 'KGSFYH': 'TAGACC',\n",
    "    # 'KGSFYW': 'ATGACG',\n",
    "    # 'KGSFYQ': 'ATGACC',\n",
    "    # 'KGSFYN': 'ATGACC',\n",
    "    # 'KGSFYF': 'TAGACC',\n",
    "}\n",
    "\n"
   ]
  },
  {
   "cell_type": "code",
   "execution_count": 19,
   "metadata": {},
   "outputs": [],
   "source": [
    "## Make nt pos dict\n",
    "nt_pos_dict = {}\n",
    "for ni, nt in enumerate(nts):\n",
    "    nt_pos_dict[nt] = ni\n",
    "\n",
    "aligned_helix_pwms = {}\n",
    "## Get best pwm representing each helix\n",
    "for key in list(helix_nt_dict.keys()):\n",
    "    ## Get pwm\n",
    "    pwm = cluster_count_dict[key]\n",
    "\n",
    "    ## Get nt seq\n",
    "    nt_seq = helix_nt_dict[key]\n",
    "\n",
    "    ## Make temp matrix\n",
    "    temp_matrix = np.zeros(shape=(4, len(nt_seq)))\n",
    "    for ni, nt in enumerate(nt_seq):\n",
    "        pos = nt_pos_dict[nt]\n",
    "        temp_matrix[pos, ni] = 1\n",
    "\n",
    "    ## Get best aligned position\n",
    "    best_pos = 0\n",
    "    best_sim = -1\n",
    "    for i in range(pwm.shape[1] - temp_matrix.shape[1]):\n",
    "        sim = pssm_similarity(temp_matrix, pwm[:, i:i+temp_matrix.shape[1]])\n",
    "        if sim > best_sim:\n",
    "            best_pos = i\n",
    "    \n",
    "    ## Get best pwm\n",
    "    best_pwm = pwm[:, best_pos:best_pos+temp_matrix.shape[1]]\n",
    "    aligned_helix_pwms[key] = best_pwm\n"
   ]
  },
  {
   "cell_type": "code",
   "execution_count": 20,
   "metadata": {},
   "outputs": [],
   "source": [
    "## Subset good proteins\n",
    "clean_helix_lim_df = total_df_2[total_df_2['Helix'].isin(list(aligned_helix_pwms.keys()))].drop_duplicates('Helix', keep='last')\n"
   ]
  },
  {
   "cell_type": "code",
   "execution_count": null,
   "metadata": {},
   "outputs": [
    {
     "data": {
      "text/plain": [
       "241"
      ]
     },
     "execution_count": 273,
     "metadata": {},
     "output_type": "execute_result"
    }
   ],
   "source": [
    "fixed_starts = '\\n'.join([i + '\\t0\\t0' for i in list(clean_helix_lim_df.id.values)])\n",
    "open('/scratch/mgh6/HTH/rCLAMPS/precomputedInputs/fixedStarts_TetR.txt', 'w').write(fixed_starts)"
   ]
  },
  {
   "cell_type": "code",
   "execution_count": 274,
   "metadata": {},
   "outputs": [
    {
     "name": "stderr",
     "output_type": "stream",
     "text": [
      "18it [00:00, 10304.01it/s]\n"
     ]
    },
    {
     "data": {
      "text/plain": [
       "15864"
      ]
     },
     "execution_count": 274,
     "metadata": {},
     "output_type": "execute_result"
    }
   ],
   "source": [
    "## Output fasta\n",
    "fasta_str = ''\n",
    "for row in clean_helix_lim_df.iterrows():\n",
    "    id = row[1].id\n",
    "    aa = row[1].aa\n",
    "    fasta_str += f'>{id}\\n{aa}\\n'\n",
    "\n",
    "open('/scratch/mgh6/HTH/rCLAMPS/precomputedInputs/proteins_TetR.fa', 'w').write(fasta_str)\n",
    "\n",
    "prob_str = 'prot\\tbpos\\tbase\\tprob\\n'\n",
    "for ri, row in tqdm(enumerate(clean_helix_lim_df.iterrows())):\n",
    "    id = row[1].id\n",
    "    cluster_prob = cluster_prob_dict[row[1].Helix]\n",
    "    for tbpos in range(cluster_prob.shape[1]):\n",
    "        for tbase_idx in range(cluster_prob.shape[0]):\n",
    "            tbase = nts[tbase_idx]\n",
    "            tprob = cluster_prob[tbase_idx, tbpos]\n",
    "            prob_str += f'{id}\\t{tbpos}\\t{tbase}\\t{tprob:.2e}\\n'\n",
    "\n",
    "open('/scratch/mgh6/HTH/rCLAMPS/precomputedInputs/pwmTab_TetR.txt', 'w').write(prob_str)"
   ]
  },
  {
   "cell_type": "code",
   "execution_count": 21,
   "metadata": {},
   "outputs": [
    {
     "name": "stderr",
     "output_type": "stream",
     "text": [
      "100%|██████████| 1214/1214 [00:14<00:00, 81.38it/s]\n"
     ]
    }
   ],
   "source": [
    "# Set inputs\n",
    "min_num_seqs = 10\n",
    "min_glam_score = 0\n",
    "pal_distance = 10000\n",
    "helix_list = helix_count_df[helix_count_df['Count'] >= min_num_seqs]['Helix'].unique()\n",
    "helix_list = [i for i in helix_list if i not in clean_helix_lim_df['Helix'].values]\n",
    "\n",
    "## Set outputs\n",
    "cluster_prob_dict = {}\n",
    "cluster_prob_dict_secondary = {}\n",
    "cluster_prob_dict_sum = {}\n",
    "\n",
    "for cluster in tqdm(helix_list):\n",
    "    cluster_path = f'glam2_{cluster}'\n",
    "    ## Get path\n",
    "    full_cluster_path = os.path.join('../glam2_outputs_helix', cluster_path)\n",
    "    ## Get glam scores\n",
    "    glam_file = os.path.join(full_cluster_path, 'glam2.txt')\n",
    "    if not os.path.exists(glam_file): continue\n",
    "    dat = open(glam_file, 'r').read()\n",
    "    glam_score = float([i for i in dat.split('\\n') if i.__contains__('Score:')][0].split(' ')[1])\n",
    "    if glam_score < min_glam_score: continue\n",
    "\n",
    "    ## Scrape top motif\n",
    "    top_motif = process_alignment(parse_glam2_output(open(glam_file, 'r').read()))\n",
    "\n",
    "    ## Get loc of best clean motif\n",
    "    best_motif, best_distance, best_pos = calculate_repeat([top_motif])\n",
    "    cluster_name = cluster_path.split('_')[-1]\n",
    "    if not best_motif: \n",
    "        continue\n",
    "    if best_distance > pal_distance: \n",
    "        continue\n",
    "\n",
    "    ## Adjust best positions by -4 and +4\n",
    "    additional_bases = 4\n",
    "    center = int((best_pos[1] - best_pos[0]) / 2) + best_pos[0]\n",
    "    lower_lim = max(best_pos[0]-additional_bases, 0)\n",
    "    upper_lim = center\n",
    "    true_best_pos = (lower_lim, upper_lim)\n",
    "\n",
    "    ## Also construct reverse matrix\n",
    "    lower_lim = center\n",
    "    upper_lim = min(best_pos[1]+additional_bases, len(best_motif.pssm['A']))\n",
    "    best_pos_secondary = (lower_lim, upper_lim)\n",
    "\n",
    "    ## Rest best_pos\n",
    "    best_pos = true_best_pos\n",
    "\n",
    "    ## Clean probs\n",
    "    clean_counts = []\n",
    "    for key in nts:\n",
    "        clean_counts.append(best_motif.counts[key][best_pos[0]:best_pos[1]])\n",
    "\n",
    "    clean_counts = np.array(clean_counts)\n",
    "    clean_probs = clean_counts / clean_counts.sum(axis=0)\n",
    "\n",
    "    ## Clean probs reverse\n",
    "    clean_counts_secondary = []\n",
    "    for key in nts:\n",
    "        clean_counts_secondary.append(best_motif.counts[key][best_pos_secondary[0]:best_pos_secondary[1]])\n",
    "\n",
    "    clean_counts_secondary = np.array(clean_counts_secondary)\n",
    "    clean_probs_secondary = clean_counts_secondary / clean_counts_secondary.sum(axis=0)\n",
    "    clean_probs_secondary = clean_probs_secondary[::-1, ::-1]\n",
    "\n",
    "    ## Get best alignment of primary and secondary probablitiy matrices\n",
    "    temp_matrix_1 = None\n",
    "    temp_matrix_2 = None\n",
    "    if clean_probs.shape[1] <= clean_probs_secondary.shape[1]:\n",
    "        temp_matrix_1 = clean_probs\n",
    "        temp_matrix_2 = clean_probs_secondary\n",
    "    else: \n",
    "        temp_matrix_2 = clean_probs\n",
    "        temp_matrix_1 = clean_probs_secondary\n",
    "\n",
    "    smaller_size = temp_matrix_1.shape[1]\n",
    "    larger_size = temp_matrix_2.shape[1]\n",
    "    max_sim = -1\n",
    "    best_matrices = (temp_matrix_1, temp_matrix_2)\n",
    "    for offset in range(larger_size - smaller_size + 1):\n",
    "        sim = pssm_similarity(temp_matrix_1, temp_matrix_2[:, offset:offset+smaller_size])\n",
    "        if sim > max_sim:\n",
    "            best_matrices = (temp_matrix_1, temp_matrix_2[:, offset:offset+smaller_size])\n",
    "            max_sim = sim\n",
    "\n",
    "    ## Add matching matrices\n",
    "    output_matrix = (best_matrices[0] * 100 + best_matrices[1] * 100) / 200\n",
    "\n",
    "    ## Add to list\n",
    "    cluster_prob_dict[cluster_name] = clean_probs\n",
    "    cluster_prob_dict_secondary[cluster_name] = clean_probs_secondary\n",
    "    cluster_prob_dict_sum[cluster_name] = output_matrix\n",
    "\n",
    "\n",
    "## Subset good proteins\n",
    "helix_lim_df = total_df_2[total_df_2['Helix'].isin(list(cluster_prob_dict.keys()))].drop_duplicates('Helix', keep='last')\n"
   ]
  },
  {
   "cell_type": "code",
   "execution_count": 276,
   "metadata": {},
   "outputs": [
    {
     "name": "stderr",
     "output_type": "stream",
     "text": [
      "0it [00:00, ?it/s]"
     ]
    },
    {
     "name": "stderr",
     "output_type": "stream",
     "text": [
      "1209it [00:00, 2137.65it/s]\n"
     ]
    },
    {
     "data": {
      "text/plain": [
       "1052540"
      ]
     },
     "execution_count": 276,
     "metadata": {},
     "output_type": "execute_result"
    }
   ],
   "source": [
    "## Output fasta\n",
    "fasta_str = ''\n",
    "for row in helix_lim_df.iterrows():\n",
    "    ## Add primary\n",
    "    id = row[1].id\n",
    "    aa = row[1].aa\n",
    "    fasta_str += f'>{id}\\n{aa}\\n'\n",
    "\n",
    "open('/scratch/mgh6/HTH/rCLAMPS/precomputedInputs/proteins_TetR.fa', 'a').write(fasta_str)\n",
    "\n",
    "prob_str = ''\n",
    "for ri, row in tqdm(enumerate(helix_lim_df.iterrows())):\n",
    "    ## Add primary\n",
    "    id = row[1].id\n",
    "    cluster_prob = cluster_prob_dict_sum[row[1].Helix]\n",
    "    for tbpos in range(cluster_prob.shape[1]):\n",
    "        for tbase_idx in range(cluster_prob.shape[0]):\n",
    "            tbase = nts[tbase_idx]\n",
    "            tprob = cluster_prob[tbase_idx, tbpos]\n",
    "            prob_str += f'{id}\\t{tbpos}\\t{tbase}\\t{tprob:.2e}\\n'\n",
    "\n",
    "open('/scratch/mgh6/HTH/rCLAMPS/precomputedInputs/pwmTab_TetR.txt', 'a').write(prob_str)"
   ]
  },
  {
   "cell_type": "code",
   "execution_count": 277,
   "metadata": {},
   "outputs": [
    {
     "ename": "NameError",
     "evalue": "name 'sldjkfd' is not defined",
     "output_type": "error",
     "traceback": [
      "\u001b[31m---------------------------------------------------------------------------\u001b[39m",
      "\u001b[31mNameError\u001b[39m                                 Traceback (most recent call last)",
      "\u001b[36mCell\u001b[39m\u001b[36m \u001b[39m\u001b[32mIn[277]\u001b[39m\u001b[32m, line 1\u001b[39m\n\u001b[32m----> \u001b[39m\u001b[32m1\u001b[39m \u001b[43msldjkfd\u001b[49m\n",
      "\u001b[31mNameError\u001b[39m: name 'sldjkfd' is not defined"
     ]
    }
   ],
   "source": [
    "sldjkfd"
   ]
  },
  {
   "cell_type": "markdown",
   "metadata": {},
   "source": [
    "## Get final model"
   ]
  },
  {
   "cell_type": "code",
   "execution_count": 1,
   "metadata": {},
   "outputs": [],
   "source": [
    "import os, sys\n",
    "import pickle\n",
    "import numpy as np\n",
    "from tqdm import tqdm\n",
    "import seaborn as sns\n",
    "import matplotlib as mpl\n",
    "import matplotlib.pyplot as plt"
   ]
  },
  {
   "cell_type": "code",
   "execution_count": 2,
   "metadata": {},
   "outputs": [],
   "source": [
    "## Find outputs\n",
    "model_output_path = 'my_results'\n",
    "model_output_lead = 'tetRProts'\n",
    "model_outputs = [i for i in os.listdir(model_output_path) if i.__contains__(model_output_lead)]"
   ]
  },
  {
   "cell_type": "code",
   "execution_count": 3,
   "metadata": {},
   "outputs": [
    {
     "name": "stderr",
     "output_type": "stream",
     "text": [
      "100%|██████████| 250/250 [00:01<00:00, 147.61it/s]\n"
     ]
    }
   ],
   "source": [
    "## Find best model\n",
    "best_score = -np.inf\n",
    "best_model = None\n",
    "scores = []\n",
    "for model in tqdm(model_outputs): \n",
    "    filename = os.path.join(model_output_path, model, 'result.pickle')\n",
    "    if not os.path.exists(filename): continue\n",
    "    with open(filename, 'rb') as f:\n",
    "        res = pickle.load(f)\n",
    "    score = [x['ll'] for x in res][0]\n",
    "    if score > best_score:\n",
    "        best_model = model\n",
    "        best_score = score\n",
    "    scores.append(score)\n",
    "\n",
    "scores = np.array(scores)"
   ]
  },
  {
   "cell_type": "code",
   "execution_count": 4,
   "metadata": {},
   "outputs": [
    {
     "data": {
      "text/plain": [
       "<Axes: >"
      ]
     },
     "execution_count": 4,
     "metadata": {},
     "output_type": "execute_result"
    },
    {
     "data": {
      "image/png": "[encoded data removed]",
      "text/plain": [
       "<Figure size 640x480 with 1 Axes>"
      ]
     },
     "metadata": {},
     "output_type": "display_data"
    }
   ],
   "source": [
    "sns.stripplot(- scores / 1000)"
   ]
  },
  {
   "cell_type": "code",
   "execution_count": 6,
   "metadata": {},
   "outputs": [],
   "source": [
    "## Extract best model\n",
    "filename = os.path.join(model_output_path, best_model, 'result.pickle')\n",
    "with open(filename, 'rb') as f:\n",
    "    res = pickle.load(f)\n",
    "score = [x['ll'] for x in res][0]          # Find the index of the chain with the optimal model/mapping\n",
    "start = [x['start'] for x in res][0]  # Extract the PWM starting positions for the optimal mapping\n",
    "rev = [x['rev'] for x in res][0]      # Extract the PWM orientations for the optimal mapping"
   ]
  },
  {
   "cell_type": "code",
   "execution_count": 7,
   "metadata": {},
   "outputs": [
    {
     "name": "stdout",
     "output_type": "stream",
     "text": [
      "tetRProts246\n",
      "-816619.3281959757\n"
     ]
    }
   ],
   "source": [
    "print(best_model)\n",
    "print(score)"
   ]
  },
  {
   "cell_type": "code",
   "execution_count": null,
   "metadata": {},
   "outputs": [],
   "source": [
    "# ## Pos6\n",
    "# 'KGSFYY': 'TAGACC',\n",
    "# 'KGSFYH': 'TAGACC',\n",
    "# 'KGSFYW': 'ATGACG',\n",
    "# 'KGSFYQ': 'ATGACC',\n",
    "# 'KGSFYN': 'ATGACC',\n",
    "# 'KGSFYF': 'TAGACC',"
   ]
  },
  {
   "cell_type": "code",
   "execution_count": 60,
   "metadata": {},
   "outputs": [
    {
     "data": {
      "text/plain": [
       "array(['KGAFFH'], dtype=object)"
      ]
     },
     "execution_count": 60,
     "metadata": {},
     "output_type": "execute_result"
    }
   ],
   "source": [
    "total_df_2[total_df_2.id == 'N9W0F5'].Helix.values"
   ]
  },
  {
   "cell_type": "code",
   "execution_count": 58,
   "metadata": {},
   "outputs": [
    {
     "data": {
      "text/plain": [
       "'T0HBN8'"
      ]
     },
     "execution_count": 58,
     "metadata": {},
     "output_type": "execute_result"
    }
   ],
   "source": [
    "total_df_2[total_df_2['Helix'] == 'KGSFYN'].id.values[-1]"
   ]
  },
  {
   "cell_type": "code",
   "execution_count": null,
   "metadata": {},
   "outputs": [
    {
     "data": {
      "text/plain": [
       "np.float64(3.0)"
      ]
     },
     "execution_count": 54,
     "metadata": {},
     "output_type": "execute_result"
    }
   ],
   "source": [
    "start[helix_lim_df[helix_lim_df['Helix'] == 'KGSFYY'].id.values[0]]"
   ]
  },
  {
   "cell_type": "code",
   "execution_count": 48,
   "metadata": {},
   "outputs": [
    {
     "data": {
      "text/plain": [
       "['A', 'C', 'G', 'T']"
      ]
     },
     "execution_count": 48,
     "metadata": {},
     "output_type": "execute_result"
    }
   ],
   "source": [
    "nts"
   ]
  },
  {
   "cell_type": "code",
   "execution_count": 49,
   "metadata": {},
   "outputs": [
    {
     "data": {
      "text/plain": [
       "array([[0.03614458, 0.78313253, 0.01807229, 0.94578313, 0.02409639],\n",
       "       [0.09036145, 0.07228916, 0.        , 0.02409639, 0.89759036],\n",
       "       [0.0060241 , 0.0060241 , 0.89759036, 0.0060241 , 0.0060241 ],\n",
       "       [0.86746988, 0.13855422, 0.08433735, 0.02409639, 0.07228916]])"
      ]
     },
     "execution_count": 49,
     "metadata": {},
     "output_type": "execute_result"
    }
   ],
   "source": [
    "cluster_prob_dict_sum['KGSFYY'][:, 2:7]"
   ]
  },
  {
   "cell_type": "code",
   "execution_count": null,
   "metadata": {},
   "outputs": [],
   "source": [
    "#  TAGAC\n",
    "# looking: TAGACC"
   ]
  },
  {
   "cell_type": "markdown",
   "metadata": {},
   "source": [
    "## Explore coefficients"
   ]
  },
  {
   "cell_type": "code",
   "execution_count": 29,
   "metadata": {},
   "outputs": [],
   "source": [
    "coeff_path = '/scratch/mgh6/HTH/rCLAMPS/coefficientExplore/TetR/coefTable.txt'\n",
    "coeff_df = pd.read_csv(coeff_path, sep='\\t')"
   ]
  },
  {
   "cell_type": "code",
   "execution_count": 30,
   "metadata": {},
   "outputs": [
    {
     "name": "stdout",
     "output_type": "stream",
     "text": [
      "[31. 30. 34. nan 33. 29.]\n",
      "[1 2 3 4 5 6]\n"
     ]
    }
   ],
   "source": [
    "print(coeff_df['aapos'].unique())\n",
    "print(coeff_df['bpos'].unique())"
   ]
  },
  {
   "cell_type": "code",
   "execution_count": 41,
   "metadata": {},
   "outputs": [
    {
     "data": {
      "text/plain": [
       "<Axes: xlabel='aa', ylabel='base'>"
      ]
     },
     "execution_count": 41,
     "metadata": {},
     "output_type": "execute_result"
    },
    {
     "data": {
      "image/png": "[encoded data removed]",
      "text/plain": [
       "<Figure size 640x480 with 2 Axes>"
      ]
     },
     "metadata": {},
     "output_type": "display_data"
    }
   ],
   "source": [
    "aa_pos = 34\n",
    "bpos = 1\n",
    "plt_pivot = pd.pivot(coeff_df[(coeff_df['aapos'] == aa_pos) & (coeff_df['bpos'] == bpos)],\n",
    "                      index=['aa'], \n",
    "                      columns=['base'], \n",
    "                      values='coef')\n",
    "sns.heatmap(plt_pivot.transpose(),\n",
    "             cmap='coolwarm', square=True)"
   ]
  },
  {
   "cell_type": "code",
   "execution_count": null,
   "metadata": {},
   "outputs": [
    {
     "data": {
      "text/html": [
       "<div>\n",
       "<style scoped>\n",
       "    .dataframe tbody tr th:only-of-type {\n",
       "        vertical-align: middle;\n",
       "    }\n",
       "\n",
       "    .dataframe tbody tr th {\n",
       "        vertical-align: top;\n",
       "    }\n",
       "\n",
       "    .dataframe thead th {\n",
       "        text-align: right;\n",
       "    }\n",
       "</style>\n",
       "<table border=\"1\" class=\"dataframe\">\n",
       "  <thead>\n",
       "    <tr style=\"text-align: right;\">\n",
       "      <th></th>\n",
       "      <th>id</th>\n",
       "      <th>Helix</th>\n",
       "    </tr>\n",
       "  </thead>\n",
       "  <tbody>\n",
       "    <tr>\n",
       "      <th>166930</th>\n",
       "      <td>N9W0F5</td>\n",
       "      <td>KGAFFH</td>\n",
       "    </tr>\n",
       "    <tr>\n",
       "      <th>167319</th>\n",
       "      <td>A0A7I7T8V9</td>\n",
       "      <td>TGTLYR</td>\n",
       "    </tr>\n",
       "    <tr>\n",
       "      <th>169808</th>\n",
       "      <td>A0A2M7G1E4</td>\n",
       "      <td>KSTLYR</td>\n",
       "    </tr>\n",
       "    <tr>\n",
       "      <th>169889</th>\n",
       "      <td>A0A7I7QFV0</td>\n",
       "      <td>AGTLYR</td>\n",
       "    </tr>\n",
       "    <tr>\n",
       "      <th>170345</th>\n",
       "      <td>R4KEN9</td>\n",
       "      <td>KGSFYF</td>\n",
       "    </tr>\n",
       "    <tr>\n",
       "      <th>172471</th>\n",
       "      <td>A0A7H8JLZ9</td>\n",
       "      <td>SGTLYR</td>\n",
       "    </tr>\n",
       "    <tr>\n",
       "      <th>172548</th>\n",
       "      <td>A0A7H8M0A9</td>\n",
       "      <td>PGTLYR</td>\n",
       "    </tr>\n",
       "    <tr>\n",
       "      <th>172568</th>\n",
       "      <td>A0A2K8M0E0</td>\n",
       "      <td>RGTLYR</td>\n",
       "    </tr>\n",
       "    <tr>\n",
       "      <th>172912</th>\n",
       "      <td>A0A2L0N2Q6</td>\n",
       "      <td>KATLYR</td>\n",
       "    </tr>\n",
       "    <tr>\n",
       "      <th>173223</th>\n",
       "      <td>A0A7I7QTZ7</td>\n",
       "      <td>KGSFYW</td>\n",
       "    </tr>\n",
       "    <tr>\n",
       "      <th>173400</th>\n",
       "      <td>R4LKU1</td>\n",
       "      <td>KGGFYH</td>\n",
       "    </tr>\n",
       "    <tr>\n",
       "      <th>173406</th>\n",
       "      <td>R4LL94</td>\n",
       "      <td>MGTLYR</td>\n",
       "    </tr>\n",
       "    <tr>\n",
       "      <th>173414</th>\n",
       "      <td>R4LM32</td>\n",
       "      <td>QGTLYR</td>\n",
       "    </tr>\n",
       "    <tr>\n",
       "      <th>173529</th>\n",
       "      <td>A0A1Y6KYJ5</td>\n",
       "      <td>KRTLYR</td>\n",
       "    </tr>\n",
       "    <tr>\n",
       "      <th>173656</th>\n",
       "      <td>R4Z113</td>\n",
       "      <td>KTTLYR</td>\n",
       "    </tr>\n",
       "    <tr>\n",
       "      <th>173667</th>\n",
       "      <td>R4Z3P6</td>\n",
       "      <td>IGTLYR</td>\n",
       "    </tr>\n",
       "    <tr>\n",
       "      <th>173870</th>\n",
       "      <td>T0HBN8</td>\n",
       "      <td>KGSFYN</td>\n",
       "    </tr>\n",
       "    <tr>\n",
       "      <th>173878</th>\n",
       "      <td>A0A225N5V5</td>\n",
       "      <td>KGTFYH</td>\n",
       "    </tr>\n",
       "    <tr>\n",
       "      <th>173909</th>\n",
       "      <td>I2F726</td>\n",
       "      <td>KGSFYQ</td>\n",
       "    </tr>\n",
       "    <tr>\n",
       "      <th>173979</th>\n",
       "      <td>A0A7C1F2F6</td>\n",
       "      <td>KGTLYR</td>\n",
       "    </tr>\n",
       "    <tr>\n",
       "      <th>174012</th>\n",
       "      <td>A0A7C1VNH2</td>\n",
       "      <td>KGSFYY</td>\n",
       "    </tr>\n",
       "    <tr>\n",
       "      <th>174028</th>\n",
       "      <td>A0A7C1W6Q2</td>\n",
       "      <td>KGSFYH</td>\n",
       "    </tr>\n",
       "    <tr>\n",
       "      <th>174033</th>\n",
       "      <td>M1MTH3</td>\n",
       "      <td>KGAFYH</td>\n",
       "    </tr>\n",
       "  </tbody>\n",
       "</table>\n",
       "</div>"
      ],
      "text/plain": [
       "                id   Helix\n",
       "166930      N9W0F5  KGAFFH\n",
       "167319  A0A7I7T8V9  TGTLYR\n",
       "169808  A0A2M7G1E4  KSTLYR\n",
       "169889  A0A7I7QFV0  AGTLYR\n",
       "170345      R4KEN9  KGSFYF\n",
       "172471  A0A7H8JLZ9  SGTLYR\n",
       "172548  A0A7H8M0A9  PGTLYR\n",
       "172568  A0A2K8M0E0  RGTLYR\n",
       "172912  A0A2L0N2Q6  KATLYR\n",
       "173223  A0A7I7QTZ7  KGSFYW\n",
       "173400      R4LKU1  KGGFYH\n",
       "173406      R4LL94  MGTLYR\n",
       "173414      R4LM32  QGTLYR\n",
       "173529  A0A1Y6KYJ5  KRTLYR\n",
       "173656      R4Z113  KTTLYR\n",
       "173667      R4Z3P6  IGTLYR\n",
       "173870      T0HBN8  KGSFYN\n",
       "173878  A0A225N5V5  KGTFYH\n",
       "173909      I2F726  KGSFYQ\n",
       "173979  A0A7C1F2F6  KGTLYR\n",
       "174012  A0A7C1VNH2  KGSFYY\n",
       "174028  A0A7C1W6Q2  KGSFYH\n",
       "174033      M1MTH3  KGAFYH"
      ]
     },
     "execution_count": 252,
     "metadata": {},
     "output_type": "execute_result"
    }
   ],
   "source": [
    "clean_helix_lim_df[['id', 'Helix']]"
   ]
  },
  {
   "cell_type": "code",
   "execution_count": null,
   "metadata": {},
   "outputs": [],
   "source": []
  }
 ],
 "metadata": {
  "kernelspec": {
   "display_name": "Python 3",
   "language": "python",
   "name": "python3"
  },
  "language_info": {
   "codemirror_mode": {
    "name": "ipython",
    "version": 3
   },
   "file_extension": ".py",
   "mimetype": "text/x-python",
   "name": "python",
   "nbconvert_exporter": "python",
   "pygments_lexer": "ipython3",
   "version": "3.13.2"
  }
 },
 "nbformat": 4,
 "nbformat_minor": 2
}
